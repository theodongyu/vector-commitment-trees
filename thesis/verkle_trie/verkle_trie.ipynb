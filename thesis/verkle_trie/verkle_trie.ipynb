{
 "cells": [
  {
   "cell_type": "code",
   "execution_count": 7,
   "metadata": {},
   "outputs": [],
   "source": [
    "import pippenger\n",
    "import blst\n",
    "import hashlib\n",
    "from random import randint, shuffle\n",
    "from poly_utils import PrimeField\n",
    "from time import time\n",
    "from kzg_utils import KzgUtils\n",
    "from fft import fft\n",
    "import sys\n"
   ]
  },
  {
   "cell_type": "code",
   "execution_count": 768,
   "metadata": {},
   "outputs": [],
   "source": [
    "import blst\n",
    "import hashlib\n",
    "from poly_utils import PrimeField\n",
    "from kzg_utils import KzgUtils\n",
    "from fft import fft\n",
    "from time import time\n",
    "from random import randint, shuffle\n",
    "\n",
    "\n",
    "# General functions\n",
    "\n",
    "def int_to_bytes(x: int) -> bytes:\n",
    "    return x.to_bytes(32, \"little\")\n",
    "\n",
    "\n",
    "def int_from_bytes(x: bytes) -> int:\n",
    "    return int.from_bytes(x, \"little\")\n",
    "\n",
    "\n",
    "def hash(x):\n",
    "    if isinstance(x, bytes):\n",
    "        return hashlib.sha256(x).digest()\n",
    "    elif isinstance(x, blst.P1):\n",
    "        return hash(x.compress())\n",
    "    b = b\"\"\n",
    "    for a in x:\n",
    "        if isinstance(a, bytes):\n",
    "            b += a\n",
    "        elif isinstance(a, int):\n",
    "            b += a.to_bytes(32, \"little\")\n",
    "        elif isinstance(a, blst.P1):\n",
    "            b += hash(a.compress())\n",
    "    return hash(b)\n",
    "\n",
    "\n",
    "def hash_to_int(x):\n",
    "    return int.from_bytes(hash(x), \"little\")\n",
    "\n",
    "\n",
    "class KzgIntegration:\n",
    "    def __init__(self, modulus: int, width: int, primitive_root: int):\n",
    "        self.modulus = modulus\n",
    "        self.width = width\n",
    "        assert pow(primitive_root, (modulus - 1) // width, modulus) != 1\n",
    "        assert pow(primitive_root, modulus - 1, modulus) == 1\n",
    "        self.root_of_unity = pow(primitive_root, (modulus - 1) // width, modulus)\n",
    "\n",
    "    def generate_setup(self, size, secret):\n",
    "        \"\"\"\n",
    "        Generates a setup in the G1 group and G2 group, as well as the Lagrange polynomials in G1 (via FFT)\n",
    "        \"\"\"\n",
    "        g1_setup = [blst.G1().mult(pow(secret, i, self.modulus))\n",
    "                    for i in range(size)]\n",
    "        g2_setup = [blst.G2().mult(pow(secret, i, self.modulus))\n",
    "                    for i in range(size)]\n",
    "        g1_lagrange = fft(g1_setup, self.modulus, self.root_of_unity, inv=True)\n",
    "        return {\"g1\": g1_setup, \"g2\": g2_setup, \"g1_lagrange\": g1_lagrange}\n",
    "\n",
    "    def kzg_utils(self, setup: dict):\n",
    "        primefield = PrimeField(self.modulus, self.width)\n",
    "        domain = [pow(self.root_of_unity, i, self.modulus) for i in range(self.width)]\n",
    "        return KzgUtils(self.modulus, self.width, domain, setup, primefield)\n",
    "\n",
    "\n",
    "class VerkleBSTNode(object):\n",
    "    def __init__(self, key: bytes, value: bytes):\n",
    "        self.value = value\n",
    "        self.key = key\n",
    "        self.left = None\n",
    "        self.right = None\n",
    "        self.hash = None\n",
    "        self.commitment = None\n",
    "\n",
    "    def node_hash(self):\n",
    "        if self.is_leaf():\n",
    "            self.hash = hash([self.key, self.value])\n",
    "        else:\n",
    "            self.hash = hash([self.commitment.compress(), self.key, self.value])\n",
    "\n",
    "    def is_leaf(self) -> bool:\n",
    "        return self.left is None and self.right is None\n",
    "\n",
    "\n",
    "class VerkleBST:\n",
    "    def __init__(self, setup: dict, kzg: KzgUtils, root: VerkleBSTNode, modulus: int, width: int):\n",
    "        self.setup = setup\n",
    "        self.kzg = kzg\n",
    "        self.root = root\n",
    "        self.modulus = modulus\n",
    "        self.width = width\n",
    "\n",
    "    def _insert(self, node: VerkleBSTNode, key: bytes, value: bytes, update: bool = False):\n",
    "        \"\"\"\n",
    "        Insert command for the tree\n",
    "        \"\"\"\n",
    "\n",
    "        if node is None:\n",
    "            return VerkleBSTNode(key, value)\n",
    "\n",
    "        if key == node.key:\n",
    "            if update:\n",
    "                node.value = value\n",
    "        elif key < node.key:\n",
    "            node.left = self._insert(node.left, key, value)\n",
    "        elif key > node.key:\n",
    "            node.right = self._insert(node.right, key, value)\n",
    "        return node\n",
    "\n",
    "    def insert_node(self, key: bytes, value: bytes):\n",
    "        \"\"\"\n",
    "        Insert a node into the tree\n",
    "        \"\"\"\n",
    "        self.root = self._insert(self.root, key, value)\n",
    "\n",
    "    def upsert_verkle_node(self, key: bytes, value: bytes):\n",
    "        \"\"\"\n",
    "        Insert or update a node in the tree and update the hashes/commitments\n",
    "        \"\"\"\n",
    "\n",
    "        root = self.root\n",
    "\n",
    "        path = self.find_path_to_node(root, key)\n",
    "        last_node = path[-1][1]\n",
    "\n",
    "        # Insert\n",
    "        if last_node is None:\n",
    "            path.pop()\n",
    "            self._insert(path[-1][1], key, value)\n",
    "            new_node = self.find_node(path[-1][1], key)\n",
    "            new_node.node_hash()\n",
    "            path.append((None, new_node))\n",
    "            value_change = int_from_bytes(new_node.hash) % self.modulus\n",
    "\n",
    "        # Update\n",
    "        elif last_node.key == key:\n",
    "            old_hash = last_node.hash\n",
    "            last_node.value = value\n",
    "            last_node.node_hash()\n",
    "            new_hash = last_node.hash\n",
    "            value_change = (int_from_bytes(new_hash) - int_from_bytes(old_hash) + self.modulus) % self.modulus\n",
    "\n",
    "        for edge, node in reversed(path):\n",
    "            if edge is None:\n",
    "                continue\n",
    "\n",
    "            old_hash = node.hash\n",
    "            if node.commitment is None:\n",
    "                self.add_node_hash(node)\n",
    "            else:\n",
    "                node.commitment.add(self.setup[\"g1_lagrange\"][edge].dup().mult(value_change))\n",
    "                node.node_hash()\n",
    "            new_hash = node.hash\n",
    "            value_change = (int_from_bytes(new_hash) - int_from_bytes(old_hash) + self.modulus) % self.modulus\n",
    "\n",
    "    def delete_verkle_node(self, key: bytes):\n",
    "        \"\"\"\n",
    "        Delete a node in the tree and update the hashes/commitments\n",
    "        \"\"\"\n",
    "        root = self.root\n",
    "\n",
    "        node = self.find_node(root, key)\n",
    "        if node is None:\n",
    "            return\n",
    "\n",
    "        children = sum(1 for child in [node.left, node.right] if child is not None)\n",
    "\n",
    "        # Leaf node\n",
    "        if children == 0:\n",
    "            path = self.find_path_to_node(root, key)\n",
    "            node_to_delete = path[-1][1]\n",
    "            path.pop()\n",
    "            node_to_update = path[-1][1]\n",
    "            if path[-1][0] == 0:\n",
    "                node_to_update.left = None\n",
    "            elif path[-1][0] == 1:\n",
    "                node_to_update.right = None\n",
    "            value_change = (- int_from_bytes(node_to_delete.hash) + self.modulus) % self.modulus\n",
    "            del node_to_delete\n",
    "\n",
    "        # Parent with only child\n",
    "        elif children == 1:\n",
    "            path = self.find_path_to_node(root, key)\n",
    "            node_to_delete = path[-1][1]\n",
    "            node_to_pullup = next(child for child in [node_to_delete.left, node_to_delete.right] if child is not None)\n",
    "            path.pop()\n",
    "            node_to_update = path[-1][1]\n",
    "            if path[-1][0] == 0:\n",
    "                node_to_update.left = node_to_pullup\n",
    "            elif path[-1][0] == 1:\n",
    "                node_to_update.right = node_to_pullup\n",
    "            value_change = (int_from_bytes(node_to_pullup.hash) - int_from_bytes(node_to_delete.hash) + self.modulus) % self.modulus\n",
    "            del node_to_delete\n",
    "\n",
    "        # Parent with two children\n",
    "        elif children == 2:\n",
    "            inorder_succ = self.find_min(node.right)\n",
    "            path = self.find_path_to_node(root, inorder_succ.key)\n",
    "            node.key = inorder_succ.key\n",
    "            node.value = inorder_succ.value\n",
    "            node_to_delete = inorder_succ\n",
    "            path.pop()\n",
    "            node_to_update = path[-1][1]\n",
    "            if path[-1][0] == 0:  # Same as node != node_to_update\n",
    "                node_to_update.left = node_to_delete.right\n",
    "            elif path[-1][0] == 1:  # Same as node == node_to_update\n",
    "                node_to_update.right = node_to_delete.right\n",
    "\n",
    "            if node_to_delete.is_leaf():\n",
    "                value_change = (- int_from_bytes(node_to_delete.hash) + self.modulus) % self.modulus\n",
    "            else:\n",
    "                value_change = (int_from_bytes(node_to_delete.right.hash) - int_from_bytes(node_to_delete.hash)\n",
    "                                + self.modulus) % self.modulus\n",
    "            del node_to_delete\n",
    "\n",
    "        for edge, node in reversed(path):\n",
    "            old_hash = node.hash\n",
    "            if node.commitment is None:\n",
    "                self.add_node_hash(node)\n",
    "            else:\n",
    "                node.commitment.add(self.setup[\"g1_lagrange\"][edge].dup().mult(value_change))\n",
    "                node.node_hash()\n",
    "            new_hash = node.hash\n",
    "            value_change = (int_from_bytes(new_hash) - int_from_bytes(old_hash) + self.modulus) % self.modulus\n",
    "\n",
    "    def find_min(self, node: VerkleBSTNode):\n",
    "        \"\"\"\n",
    "        Find the minimum node in the tree\n",
    "        \"\"\"\n",
    "        while node.left is not None:\n",
    "            node = node.left\n",
    "        return node\n",
    "\n",
    "    def find_node(self, node: VerkleBSTNode, key: bytes):\n",
    "        \"\"\"\n",
    "        Search for a node in the tree\n",
    "        \"\"\"\n",
    "        while node is not None:\n",
    "            if key == node.key:\n",
    "                return node\n",
    "            elif key < node.key:\n",
    "                node = node.left\n",
    "            elif key > node.key:\n",
    "                node = node.right\n",
    "        return None\n",
    "\n",
    "    def find_path_to_node(self, node: VerkleBSTNode, key: bytes):\n",
    "        \"\"\"\n",
    "        Returns the path from node to a node with key with the last element being none if the node does not exist\n",
    "        \"\"\"\n",
    "        path = []\n",
    "        while node is not None:\n",
    "            if key == node.key:\n",
    "                path.append((None, node))\n",
    "                break\n",
    "            elif key < node.key:\n",
    "                edge = 0  # edge 0 for left\n",
    "            elif key > node.key:\n",
    "                edge = 1  # edge 1 for right\n",
    "            path.append((edge, node))\n",
    "            node = node.left if edge == 0 else node.right\n",
    "\n",
    "        if node is None:\n",
    "            path.append((None, None))\n",
    "\n",
    "        return path\n",
    "\n",
    "    def add_node_hash(self, node: VerkleBSTNode):\n",
    "        \"\"\"\n",
    "        Add the hash of a node to the node itself\n",
    "        \"\"\"\n",
    "        if node.is_leaf():\n",
    "            node.node_hash()\n",
    "        else:\n",
    "            values = {}\n",
    "            nodes = [node.left, node.right]\n",
    "            for i in range(len(nodes)):\n",
    "                if nodes[i] is None:\n",
    "                    continue\n",
    "\n",
    "                if nodes[i].hash is None:\n",
    "                    self.add_node_hash(nodes[i])\n",
    "                values[i] = int_from_bytes(nodes[i].hash)\n",
    "            commitment = self.kzg.compute_commitment_lagrange(values)\n",
    "            node.commitment = commitment\n",
    "            node.node_hash()\n",
    "\n",
    "    def check_valid_tree(self, node: VerkleBSTNode):\n",
    "        \"\"\"\n",
    "        Check if the tree is valid\n",
    "        \"\"\"\n",
    "\n",
    "        if node.is_leaf():\n",
    "            assert node.hash == hash([node.key, node.value])\n",
    "        else:\n",
    "            values = {}\n",
    "            nodes = [node.left, node.right]\n",
    "            for i in range(len(nodes)):\n",
    "                if nodes[i] is None:\n",
    "                    continue\n",
    "\n",
    "                if nodes[i].hash is None:\n",
    "                    self.add_node_hash(nodes[i])\n",
    "                values[i] = int_from_bytes(nodes[i].hash)\n",
    "                self.check_valid_tree(nodes[i])\n",
    "            commitment = self.kzg.compute_commitment_lagrange(values)\n",
    "\n",
    "            assert node.commitment.is_equal(commitment)\n",
    "            assert node.hash == hash([node.commitment.compress(), node.key, node.value])\n",
    "\n",
    "    def inorder_traversal(self, node: VerkleBSTNode, order: list = []):\n",
    "        \"\"\"\n",
    "        Inorder traversal of the tree\n",
    "        \"\"\"\n",
    "        if node is not None:\n",
    "            self.inorder_traversal(node.left)\n",
    "            order.append(int_from_bytes(node.key))\n",
    "            self.inorder_traversal(node.right)\n",
    "\n",
    "        return order\n",
    "\n",
    "    def inorder_tree_structure(self, node, level: int = 0, prefix: str = \"Root\", structure: list = []):\n",
    "        \"\"\"\n",
    "        Print the tree in order\n",
    "        \"\"\"\n",
    "\n",
    "        if node is not None:\n",
    "            self.inorder_tree_structure(node.left, level + 1, \"L\")\n",
    "            info = {\"position\": prefix + str(level),\n",
    "                    \"key\": int_from_bytes(node.key),\n",
    "                    \"value\": int_from_bytes(node.value)}\n",
    "            structure.append(info)\n",
    "            self.inorder_tree_structure(node.right, level + 1, \"R\")\n",
    "\n",
    "        return structure\n"
   ]
  },
  {
   "cell_type": "code",
   "execution_count": 769,
   "metadata": {},
   "outputs": [],
   "source": [
    "# BLS12_381 curve modulus\\\n",
    "MODULUS = 0x73eda753299d7d483339d80809a1d80553bda402fffe5bfeffffffff00000001\n",
    "\n",
    "# Verkle trie parameters\n",
    "KEY_LENGTH = 256  # bits\n",
    "WIDTH = 2\n",
    "PRIMITIVE_ROOT = 7\n",
    "\n",
    "\n",
    "# Number of key-value pairs to insert\n",
    "NUMBER_INITIAL_KEYS = 2**15\n",
    "\n",
    "# Number of keys to insert after computing initial tree\n",
    "NUMBER_ADDED_KEYS = 512\n",
    "\n",
    "# Number of keys to delete\n",
    "NUMBER_DELETED_KEYS = 512\n",
    "\n",
    "# Number of key/values pair in proof\n",
    "NUMBER_KEYS_PROOF = 5000"
   ]
  },
  {
   "cell_type": "code",
   "execution_count": 770,
   "metadata": {},
   "outputs": [],
   "source": [
    "kzg_integration = KzgIntegration(MODULUS, WIDTH, PRIMITIVE_ROOT)\n",
    "kzg_setup = kzg_integration.generate_setup(WIDTH, 8927347823478352432985)\n",
    "kzg_utils = kzg_integration.kzg_utils(kzg_setup)"
   ]
  },
  {
   "cell_type": "code",
   "execution_count": 771,
   "metadata": {},
   "outputs": [],
   "source": [
    "root = VerkleBSTNode(int_to_bytes(10), int_to_bytes(10))\n",
    "verkle = VerkleBST(kzg_setup, kzg_utils, root, MODULUS, WIDTH)\n",
    "\n",
    "verkle.insert_node(int_to_bytes(5), int_to_bytes(5))\n",
    "verkle.insert_node(int_to_bytes(15), int_to_bytes(15))\n",
    "verkle.insert_node(int_to_bytes(2), int_to_bytes(2))\n",
    "verkle.insert_node(int_to_bytes(7), int_to_bytes(7))"
   ]
  },
  {
   "cell_type": "code",
   "execution_count": 772,
   "metadata": {},
   "outputs": [
    {
     "data": {
      "text/plain": [
       "[{'position': 'L2', 'key': 2, 'value': 2},\n",
       " {'position': 'L1', 'key': 5, 'value': 5},\n",
       " {'position': 'R2', 'key': 7, 'value': 7},\n",
       " {'position': 'Root0', 'key': 10, 'value': 10},\n",
       " {'position': 'R1', 'key': 15, 'value': 15}]"
      ]
     },
     "execution_count": 772,
     "metadata": {},
     "output_type": "execute_result"
    }
   ],
   "source": [
    "verkle.inorder_tree_structure(verkle.root)"
   ]
  },
  {
   "cell_type": "code",
   "execution_count": 773,
   "metadata": {},
   "outputs": [
    {
     "ename": "AttributeError",
     "evalue": "'VerkleBST' object has no attribute 'inorder_tranversal'",
     "output_type": "error",
     "traceback": [
      "\u001b[0;31m---------------------------------------------------------------------------\u001b[0m",
      "\u001b[0;31mAttributeError\u001b[0m                            Traceback (most recent call last)",
      "Cell \u001b[0;32mIn[773], line 1\u001b[0m\n\u001b[0;32m----> 1\u001b[0m \u001b[43mverkle\u001b[49m\u001b[38;5;241;43m.\u001b[39;49m\u001b[43minorder_tranversal\u001b[49m(verkle\u001b[38;5;241m.\u001b[39mroot)\n",
      "\u001b[0;31mAttributeError\u001b[0m: 'VerkleBST' object has no attribute 'inorder_tranversal'"
     ]
    }
   ],
   "source": [
    "verkle.inorder_tranversal(verkle.root)"
   ]
  },
  {
   "cell_type": "code",
   "execution_count": 774,
   "metadata": {},
   "outputs": [
    {
     "data": {
      "text/plain": [
       "[(0, <__main__.VerkleBSTNode at 0x7f04611af040>),\n",
       " (0, <__main__.VerkleBSTNode at 0x7f04611af6d0>),\n",
       " (1, <__main__.VerkleBSTNode at 0x7f04611af310>),\n",
       " (None, None)]"
      ]
     },
     "execution_count": 774,
     "metadata": {},
     "output_type": "execute_result"
    }
   ],
   "source": [
    "verkle.find_path_to_node(verkle.root, int_to_bytes(3))"
   ]
  },
  {
   "cell_type": "code",
   "execution_count": 775,
   "metadata": {},
   "outputs": [],
   "source": [
    "verkle.add_node_hash(verkle.root)"
   ]
  },
  {
   "cell_type": "code",
   "execution_count": 776,
   "metadata": {},
   "outputs": [],
   "source": [
    "verkle.check_valid_tree(verkle.root)"
   ]
  },
  {
   "cell_type": "code",
   "execution_count": 777,
   "metadata": {},
   "outputs": [],
   "source": [
    "verkle.upsert_verkle_node(int_to_bytes(5), int_to_bytes(10))"
   ]
  },
  {
   "cell_type": "code",
   "execution_count": 778,
   "metadata": {},
   "outputs": [],
   "source": [
    "verkle.check_valid_tree(verkle.root)"
   ]
  },
  {
   "cell_type": "code",
   "execution_count": 779,
   "metadata": {},
   "outputs": [],
   "source": [
    "verkle.upsert_verkle_node(int_to_bytes(3), int_to_bytes(3))"
   ]
  },
  {
   "cell_type": "code",
   "execution_count": 780,
   "metadata": {},
   "outputs": [],
   "source": [
    "verkle.check_valid_tree(verkle.root)"
   ]
  },
  {
   "cell_type": "code",
   "execution_count": 781,
   "metadata": {},
   "outputs": [],
   "source": [
    "verkle.delete_verkle_node(int_to_bytes(3))"
   ]
  },
  {
   "cell_type": "code",
   "execution_count": 782,
   "metadata": {},
   "outputs": [],
   "source": [
    "verkle.check_valid_tree(verkle.root)"
   ]
  },
  {
   "cell_type": "code",
   "execution_count": 783,
   "metadata": {},
   "outputs": [],
   "source": [
    "verkle.upsert_verkle_node(int_to_bytes(3), int_to_bytes(3))"
   ]
  },
  {
   "cell_type": "code",
   "execution_count": 784,
   "metadata": {},
   "outputs": [],
   "source": [
    "verkle.delete_verkle_node(int_to_bytes(2))"
   ]
  },
  {
   "cell_type": "code",
   "execution_count": 785,
   "metadata": {},
   "outputs": [],
   "source": [
    "verkle.check_valid_tree(verkle.root)"
   ]
  },
  {
   "cell_type": "code",
   "execution_count": 786,
   "metadata": {},
   "outputs": [],
   "source": [
    "verkle.upsert_verkle_node(int_to_bytes(2), int_to_bytes(2))\n",
    "verkle.upsert_verkle_node(int_to_bytes(4), int_to_bytes(4))\n",
    "verkle.upsert_verkle_node(int_to_bytes(6), int_to_bytes(6))\n",
    "verkle.upsert_verkle_node(int_to_bytes(8), int_to_bytes(8))\n",
    "verkle.upsert_verkle_node(int_to_bytes(9), int_to_bytes(9))\n",
    "verkle.upsert_verkle_node(int_to_bytes(1), int_to_bytes(1))"
   ]
  },
  {
   "cell_type": "code",
   "execution_count": 787,
   "metadata": {},
   "outputs": [],
   "source": [
    "verkle.check_valid_tree(verkle.root)"
   ]
  },
  {
   "cell_type": "code",
   "execution_count": 788,
   "metadata": {},
   "outputs": [],
   "source": [
    "verkle.delete_verkle_node(int_to_bytes(5))"
   ]
  },
  {
   "cell_type": "code",
   "execution_count": 789,
   "metadata": {},
   "outputs": [],
   "source": [
    "verkle.check_valid_tree(verkle.root)"
   ]
  },
  {
   "cell_type": "code",
   "execution_count": 790,
   "metadata": {},
   "outputs": [],
   "source": [
    "verkle.upsert_verkle_node(int_to_bytes(5), int_to_bytes(5))"
   ]
  },
  {
   "cell_type": "code",
   "execution_count": 791,
   "metadata": {},
   "outputs": [],
   "source": [
    "verkle.check_valid_tree(verkle.root)"
   ]
  },
  {
   "cell_type": "code",
   "execution_count": 792,
   "metadata": {},
   "outputs": [],
   "source": [
    "verkle.delete_verkle_node(int_to_bytes(3))"
   ]
  },
  {
   "cell_type": "code",
   "execution_count": 793,
   "metadata": {},
   "outputs": [],
   "source": [
    "verkle.check_valid_tree(verkle.root)"
   ]
  },
  {
   "cell_type": "code",
   "execution_count": 804,
   "metadata": {},
   "outputs": [
    {
     "name": "stdout",
     "output_type": "stream",
     "text": [
      "\u001b[31mF\u001b[0m\u001b[31m                                                                                            [100%]\u001b[0m\n",
      "============================================= FAILURES =============================================\n",
      "\u001b[31m\u001b[1m____________________________________ TestVerkleBST.test_insert _____________________________________\u001b[0m\n",
      "\n",
      "self = <__main__.TestVerkleBST object at 0x7f0460db6a60>\n",
      "\n",
      "    \u001b[94mdef\u001b[39;49;00m \u001b[92mtest_insert\u001b[39;49;00m(\u001b[96mself\u001b[39;49;00m):\u001b[90m\u001b[39;49;00m\n",
      "      verkle_bst = \u001b[96mself\u001b[39;49;00m.verkle_bst\u001b[90m\u001b[39;49;00m\n",
      "      verkle_bst.insert_node(int_to_bytes(\u001b[94m50\u001b[39;49;00m), int_to_bytes(\u001b[94m50\u001b[39;49;00m))\u001b[90m\u001b[39;49;00m\n",
      "      verkle_bst.insert_node(int_to_bytes(\u001b[94m150\u001b[39;49;00m), int_to_bytes(\u001b[94m150\u001b[39;49;00m))\u001b[90m\u001b[39;49;00m\n",
      "      verkle_bst.insert_node(int_to_bytes(\u001b[94m25\u001b[39;49;00m), int_to_bytes(\u001b[94m25\u001b[39;49;00m))\u001b[90m\u001b[39;49;00m\n",
      "      verkle_bst.insert_node(int_to_bytes(\u001b[94m75\u001b[39;49;00m), int_to_bytes(\u001b[94m75\u001b[39;49;00m))\u001b[90m\u001b[39;49;00m\n",
      "      \u001b[96mprint\u001b[39;49;00m(verkle_bst.inorder_traversal(verkle_bst.root))\u001b[90m\u001b[39;49;00m\n",
      "      verkle_bst.add_node_hash(verkle_bst.root)\u001b[90m\u001b[39;49;00m\n",
      "      \u001b[96mprint\u001b[39;49;00m(verkle_bst.inorder_traversal(verkle_bst.root))\u001b[90m\u001b[39;49;00m\n",
      "    \u001b[90m\u001b[39;49;00m\n",
      "      tree_structure = verkle_bst.inorder_tree_structure(verkle_bst.root)\u001b[90m\u001b[39;49;00m\n",
      "      \u001b[96mprint\u001b[39;49;00m(tree_structure)\u001b[90m\u001b[39;49;00m\n",
      ">     \u001b[94massert\u001b[39;49;00m tree_structure == [{\u001b[33m'\u001b[39;49;00m\u001b[33mposition\u001b[39;49;00m\u001b[33m'\u001b[39;49;00m: \u001b[33m'\u001b[39;49;00m\u001b[33mL2\u001b[39;49;00m\u001b[33m'\u001b[39;49;00m, \u001b[33m'\u001b[39;49;00m\u001b[33mkey\u001b[39;49;00m\u001b[33m'\u001b[39;49;00m: \u001b[94m25\u001b[39;49;00m, \u001b[33m'\u001b[39;49;00m\u001b[33mvalue\u001b[39;49;00m\u001b[33m'\u001b[39;49;00m: \u001b[94m25\u001b[39;49;00m},\u001b[90m\u001b[39;49;00m\n",
      "                                {\u001b[33m'\u001b[39;49;00m\u001b[33mposition\u001b[39;49;00m\u001b[33m'\u001b[39;49;00m: \u001b[33m'\u001b[39;49;00m\u001b[33mL1\u001b[39;49;00m\u001b[33m'\u001b[39;49;00m, \u001b[33m'\u001b[39;49;00m\u001b[33mkey\u001b[39;49;00m\u001b[33m'\u001b[39;49;00m: \u001b[94m50\u001b[39;49;00m, \u001b[33m'\u001b[39;49;00m\u001b[33mvalue\u001b[39;49;00m\u001b[33m'\u001b[39;49;00m: \u001b[94m50\u001b[39;49;00m},\u001b[90m\u001b[39;49;00m\n",
      "                                {\u001b[33m'\u001b[39;49;00m\u001b[33mposition\u001b[39;49;00m\u001b[33m'\u001b[39;49;00m: \u001b[33m'\u001b[39;49;00m\u001b[33mR2\u001b[39;49;00m\u001b[33m'\u001b[39;49;00m, \u001b[33m'\u001b[39;49;00m\u001b[33mkey\u001b[39;49;00m\u001b[33m'\u001b[39;49;00m: \u001b[94m100\u001b[39;49;00m, \u001b[33m'\u001b[39;49;00m\u001b[33mvalue\u001b[39;49;00m\u001b[33m'\u001b[39;49;00m: \u001b[94m100\u001b[39;49;00m},\u001b[90m\u001b[39;49;00m\n",
      "                                {\u001b[33m'\u001b[39;49;00m\u001b[33mposition\u001b[39;49;00m\u001b[33m'\u001b[39;49;00m: \u001b[33m'\u001b[39;49;00m\u001b[33mRoot0\u001b[39;49;00m\u001b[33m'\u001b[39;49;00m, \u001b[33m'\u001b[39;49;00m\u001b[33mkey\u001b[39;49;00m\u001b[33m'\u001b[39;49;00m: \u001b[94m100\u001b[39;49;00m, \u001b[33m'\u001b[39;49;00m\u001b[33mvalue\u001b[39;49;00m\u001b[33m'\u001b[39;49;00m: \u001b[94m100\u001b[39;49;00m},\u001b[90m\u001b[39;49;00m\n",
      "                                {\u001b[33m'\u001b[39;49;00m\u001b[33mposition\u001b[39;49;00m\u001b[33m'\u001b[39;49;00m: \u001b[33m'\u001b[39;49;00m\u001b[33mR1\u001b[39;49;00m\u001b[33m'\u001b[39;49;00m, \u001b[33m'\u001b[39;49;00m\u001b[33mkey\u001b[39;49;00m\u001b[33m'\u001b[39;49;00m: \u001b[94m150\u001b[39;49;00m, \u001b[33m'\u001b[39;49;00m\u001b[33mvalue\u001b[39;49;00m\u001b[33m'\u001b[39;49;00m: \u001b[94m150\u001b[39;49;00m}]\u001b[90m\u001b[39;49;00m\n",
      "\u001b[1m\u001b[31mE     AssertionError: assert [{'key': 2, '...ue': 25}, ...] == [{'key': 25, ...'value': 150}]\u001b[0m\n",
      "\u001b[1m\u001b[31mE       At index 0 diff: {'position': 'L2', 'key': 2, 'value': 2} != {'position': 'L2', 'key': 25, 'value': 25}\u001b[0m\n",
      "\u001b[1m\u001b[31mE       Left contains 45 more items, first extra item: {'key': 25, 'position': 'L2', 'value': 25}\u001b[0m\n",
      "\u001b[1m\u001b[31mE       Use -v to get more diff\u001b[0m\n",
      "\n",
      "\u001b[1m\u001b[31m/tmp/ipykernel_30882/1165905512.py\u001b[0m:27: AssertionError\n",
      "--------------------------------------- Captured stdout call ---------------------------------------\n",
      "[25, 50, 75, 100, 150, 25, 50, 75, 100, 150, 25, 50, 75, 100, 150, 25, 50, 75, 100, 150, 25, 50, 75, 100, 150, 25, 50, 75, 100, 150, 25, 50, 75, 100, 150, 25, 50, 75, 100, 150, 25, 50, 75, 100, 150, 25, 50, 75, 100, 150, 25, 50, 75, 100, 150, 25, 50, 75, 100, 150, 25, 50, 75, 100, 150, 25, 50, 75, 100, 150, 25, 50, 75, 100, 150, 25, 50, 75, 100, 150]\n",
      "[25, 50, 75, 100, 150, 25, 50, 75, 100, 150, 25, 50, 75, 100, 150, 25, 50, 75, 100, 150, 25, 50, 75, 100, 150, 25, 50, 75, 100, 150, 25, 50, 75, 100, 150, 25, 50, 75, 100, 150, 25, 50, 75, 100, 150, 25, 50, 75, 100, 150, 25, 50, 75, 100, 150, 25, 50, 75, 100, 150, 25, 50, 75, 100, 150, 25, 50, 75, 100, 150, 25, 50, 75, 100, 150, 25, 50, 75, 100, 150, 25, 50, 75, 100, 150]\n",
      "[{'position': 'L2', 'key': 2, 'value': 2}, {'position': 'L1', 'key': 5, 'value': 5}, {'position': 'R2', 'key': 7, 'value': 7}, {'position': 'Root0', 'key': 10, 'value': 10}, {'position': 'R1', 'key': 15, 'value': 15}, {'position': 'L2', 'key': 25, 'value': 25}, {'position': 'L1', 'key': 50, 'value': 50}, {'position': 'R2', 'key': 75, 'value': 75}, {'position': 'Root0', 'key': 100, 'value': 100}, {'position': 'R1', 'key': 150, 'value': 150}, {'position': 'L2', 'key': 25, 'value': 25}, {'position': 'L1', 'key': 50, 'value': 50}, {'position': 'R2', 'key': 75, 'value': 75}, {'position': 'Root0', 'key': 100, 'value': 100}, {'position': 'R1', 'key': 150, 'value': 150}, {'position': 'L2', 'key': 25, 'value': 25}, {'position': 'L1', 'key': 50, 'value': 50}, {'position': 'R2', 'key': 75, 'value': 75}, {'position': 'Root0', 'key': 100, 'value': 100}, {'position': 'R1', 'key': 150, 'value': 150}, {'position': 'L2', 'key': 25, 'value': 25}, {'position': 'L1', 'key': 50, 'value': 50}, {'position': 'R2', 'key': 75, 'value': 75}, {'position': 'Root0', 'key': 100, 'value': 100}, {'position': 'R1', 'key': 150, 'value': 150}, {'position': 'L2', 'key': 25, 'value': 25}, {'position': 'L1', 'key': 50, 'value': 50}, {'position': 'R2', 'key': 75, 'value': 75}, {'position': 'Root0', 'key': 100, 'value': 100}, {'position': 'R1', 'key': 150, 'value': 150}, {'position': 'L2', 'key': 25, 'value': 25}, {'position': 'L1', 'key': 50, 'value': 50}, {'position': 'R2', 'key': 75, 'value': 75}, {'position': 'Root0', 'key': 100, 'value': 100}, {'position': 'R1', 'key': 150, 'value': 150}, {'position': 'L2', 'key': 25, 'value': 25}, {'position': 'L1', 'key': 50, 'value': 50}, {'position': 'R2', 'key': 75, 'value': 75}, {'position': 'Root0', 'key': 100, 'value': 100}, {'position': 'R1', 'key': 150, 'value': 150}, {'position': 'L2', 'key': 25, 'value': 25}, {'position': 'L1', 'key': 50, 'value': 50}, {'position': 'R2', 'key': 75, 'value': 75}, {'position': 'Root0', 'key': 100, 'value': 100}, {'position': 'R1', 'key': 150, 'value': 150}, {'position': 'L2', 'key': 25, 'value': 25}, {'position': 'L1', 'key': 50, 'value': 50}, {'position': 'R2', 'key': 75, 'value': 75}, {'position': 'Root0', 'key': 100, 'value': 100}, {'position': 'R1', 'key': 150, 'value': 150}]\n",
      "\u001b[36m\u001b[1m===================================== short test summary info ======================================\u001b[0m\n",
      "\u001b[31mFAILED\u001b[0m t_db1b673cdc7548e7be4f9e45f565893b.py::\u001b[1mTestVerkleBST::test_insert\u001b[0m - AssertionError: assert [{'key': 2, '...ue': 25}, ...] == [{'key': 25, ...'value': 150}]\n"
     ]
    }
   ],
   "source": [
    "MODULUS = 0x73eda753299d7d483339d80809a1d80553bda402fffe5bfeffffffff00000001\n",
    "WIDTH = 2\n",
    "PRIMITIVE_ROOT = 7\n",
    "\n",
    "class TestVerkleBST:\n",
    "  kzg_integration = KzgIntegration(MODULUS, WIDTH, PRIMITIVE_ROOT)\n",
    "  kzg_setup = kzg_integration.generate_setup(WIDTH, 8927347823478352432985)\n",
    "  kzg_utils = kzg_integration.kzg_utils(kzg_setup)\n",
    "\n",
    "  def setup_method(self):\n",
    "    root = VerkleBSTNode(int_to_bytes(100), int_to_bytes(100))\n",
    "    verkle_bst = VerkleBST(kzg_setup, kzg_utils, root, MODULUS, WIDTH)\n",
    "    self.verkle_bst = verkle_bst\n",
    "    \n",
    "  def test_insert(self):\n",
    "    verkle_bst = self.verkle_bst\n",
    "    verkle_bst.insert_node(int_to_bytes(50), int_to_bytes(50))\n",
    "    verkle_bst.insert_node(int_to_bytes(150), int_to_bytes(150))\n",
    "    verkle_bst.insert_node(int_to_bytes(25), int_to_bytes(25))\n",
    "    verkle_bst.insert_node(int_to_bytes(75), int_to_bytes(75))\n",
    "    print(verkle_bst.inorder_traversal(verkle_bst.root))\n",
    "    verkle_bst.add_node_hash(verkle_bst.root)\n",
    "    print(verkle_bst.inorder_traversal(verkle_bst.root))\n",
    "\n",
    "    tree_structure = verkle_bst.inorder_tree_structure(verkle_bst.root)\n",
    "    print(tree_structure)\n",
    "    assert tree_structure == [{'position': 'L2', 'key': 25, 'value': 25},\n",
    "                              {'position': 'L1', 'key': 50, 'value': 50},\n",
    "                              {'position': 'R2', 'key': 100, 'value': 100},\n",
    "                              {'position': 'Root0', 'key': 100, 'value': 100}, \n",
    "                              {'position': 'R1', 'key': 150, 'value': 150}]\n",
    "\n",
    "    verkle_bst.check_valid_tree(verkle_bst.root)\n",
    "  \n",
    "  def teardown_method(self):\n",
    "    self.verkle_bst = None\n",
    "    del self.verkle_bst"
   ]
  },
  {
   "cell_type": "code",
   "execution_count": 805,
   "metadata": {},
   "outputs": [
    {
     "name": "stderr",
     "output_type": "stream",
     "text": [
      "UsageError: %%run_pytest[clean] is a cell magic, but the cell body is empty.\n"
     ]
    }
   ],
   "source": [
    "%%run_pytest[clean] -qq"
   ]
  },
  {
   "cell_type": "code",
   "execution_count": null,
   "metadata": {},
   "outputs": [],
   "source": []
  },
  {
   "cell_type": "code",
   "execution_count": null,
   "metadata": {},
   "outputs": [],
   "source": []
  }
 ],
 "metadata": {
  "kernelspec": {
   "display_name": "base",
   "language": "python",
   "name": "python3"
  },
  "language_info": {
   "codemirror_mode": {
    "name": "ipython",
    "version": 3
   },
   "file_extension": ".py",
   "mimetype": "text/x-python",
   "name": "python",
   "nbconvert_exporter": "python",
   "pygments_lexer": "ipython3",
   "version": "3.9.5"
  }
 },
 "nbformat": 4,
 "nbformat_minor": 2
}
